{
 "cells": [
  {
   "cell_type": "markdown",
   "metadata": {},
   "source": [
    "### Cardiac Arrhythmia Multy-Class Classification \n",
    "\n",
    "Analyze data and address missing data if there is any. \n",
    "\n",
    "Decide aboute a good evaluation strategy and justify your choice. \n",
    "\n",
    "Find the best parameters for the following classification models: \n",
    "- KNN classifcation \n",
    "- Logistic Regression\n",
    "- Linear Supprt Vector Machine\n",
    "- Kerenilzed Support Vector Machine\n",
    "- Decision Tree\n",
    "- Random Forest \n",
    "\n",
    "Then use different bagging and boosting methods to boost the results? Do you see any significant change? Why or why not? \n",
    "\n",
    "Next, use data reduction method you have learned in class to reduce the size of data, and agian try above models. Do you get better results? Justify your answer. \n",
    "\n",
    "<font color = 'red'>Due date for full credit: April 4, 11:59 PM\n",
    "    <br>\n",
    "    Due date for partial credit: April 6, 11:59 PM.\n",
    "    <br> No submission will be accepted after April 6. \n",
    "    <br> Please note that your term paper is also due April 6. \n",
    "    </font>"
   ]
  },
  {
   "cell_type": "markdown",
   "metadata": {},
   "source": [
    "Please note that column names and description are provided in metadata word document. The last column is the target value. "
   ]
  },
  {
   "cell_type": "markdown",
   "metadata": {},
   "source": [
    "### Imports"
   ]
  },
  {
   "cell_type": "code",
   "execution_count": 1,
   "metadata": {},
   "outputs": [],
   "source": [
    "import pandas as pd\n",
    "import numpy as np\n",
    "import seaborn as sns\n",
    "import matplotlib.pyplot as plt\n",
    "%matplotlib inline"
   ]
  },
  {
   "cell_type": "markdown",
   "metadata": {},
   "source": [
    "### Analyze data and address missing data if there is any."
   ]
  },
  {
   "cell_type": "code",
   "execution_count": 2,
   "metadata": {},
   "outputs": [],
   "source": [
    "# Missing value is distinguished with '?', and this data set has no columns.\n",
    "df = pd.read_csv('cardiac_arrhythmia.csv',header = None,na_values = '?')\n",
    "result = pd.DataFrame()"
   ]
  },
  {
   "cell_type": "code",
   "execution_count": 3,
   "metadata": {},
   "outputs": [
    {
     "data": {
      "text/html": [
       "<div>\n",
       "<style scoped>\n",
       "    .dataframe tbody tr th:only-of-type {\n",
       "        vertical-align: middle;\n",
       "    }\n",
       "\n",
       "    .dataframe tbody tr th {\n",
       "        vertical-align: top;\n",
       "    }\n",
       "\n",
       "    .dataframe thead th {\n",
       "        text-align: right;\n",
       "    }\n",
       "</style>\n",
       "<table border=\"1\" class=\"dataframe\">\n",
       "  <thead>\n",
       "    <tr style=\"text-align: right;\">\n",
       "      <th></th>\n",
       "      <th>0</th>\n",
       "      <th>1</th>\n",
       "      <th>2</th>\n",
       "      <th>3</th>\n",
       "      <th>4</th>\n",
       "      <th>5</th>\n",
       "      <th>6</th>\n",
       "      <th>7</th>\n",
       "      <th>8</th>\n",
       "      <th>9</th>\n",
       "      <th>...</th>\n",
       "      <th>270</th>\n",
       "      <th>271</th>\n",
       "      <th>272</th>\n",
       "      <th>273</th>\n",
       "      <th>274</th>\n",
       "      <th>275</th>\n",
       "      <th>276</th>\n",
       "      <th>277</th>\n",
       "      <th>278</th>\n",
       "      <th>279</th>\n",
       "    </tr>\n",
       "  </thead>\n",
       "  <tbody>\n",
       "    <tr>\n",
       "      <th>0</th>\n",
       "      <td>75</td>\n",
       "      <td>0</td>\n",
       "      <td>190</td>\n",
       "      <td>80</td>\n",
       "      <td>91</td>\n",
       "      <td>193</td>\n",
       "      <td>371</td>\n",
       "      <td>174</td>\n",
       "      <td>121</td>\n",
       "      <td>-16</td>\n",
       "      <td>...</td>\n",
       "      <td>0.0</td>\n",
       "      <td>9.0</td>\n",
       "      <td>-0.9</td>\n",
       "      <td>0.0</td>\n",
       "      <td>0</td>\n",
       "      <td>0.9</td>\n",
       "      <td>2.9</td>\n",
       "      <td>23.3</td>\n",
       "      <td>49.4</td>\n",
       "      <td>8</td>\n",
       "    </tr>\n",
       "    <tr>\n",
       "      <th>1</th>\n",
       "      <td>56</td>\n",
       "      <td>1</td>\n",
       "      <td>165</td>\n",
       "      <td>64</td>\n",
       "      <td>81</td>\n",
       "      <td>174</td>\n",
       "      <td>401</td>\n",
       "      <td>149</td>\n",
       "      <td>39</td>\n",
       "      <td>25</td>\n",
       "      <td>...</td>\n",
       "      <td>0.0</td>\n",
       "      <td>8.5</td>\n",
       "      <td>0.0</td>\n",
       "      <td>0.0</td>\n",
       "      <td>0</td>\n",
       "      <td>0.2</td>\n",
       "      <td>2.1</td>\n",
       "      <td>20.4</td>\n",
       "      <td>38.8</td>\n",
       "      <td>6</td>\n",
       "    </tr>\n",
       "    <tr>\n",
       "      <th>2</th>\n",
       "      <td>54</td>\n",
       "      <td>0</td>\n",
       "      <td>172</td>\n",
       "      <td>95</td>\n",
       "      <td>138</td>\n",
       "      <td>163</td>\n",
       "      <td>386</td>\n",
       "      <td>185</td>\n",
       "      <td>102</td>\n",
       "      <td>96</td>\n",
       "      <td>...</td>\n",
       "      <td>0.0</td>\n",
       "      <td>9.5</td>\n",
       "      <td>-2.4</td>\n",
       "      <td>0.0</td>\n",
       "      <td>0</td>\n",
       "      <td>0.3</td>\n",
       "      <td>3.4</td>\n",
       "      <td>12.3</td>\n",
       "      <td>49.0</td>\n",
       "      <td>10</td>\n",
       "    </tr>\n",
       "    <tr>\n",
       "      <th>3</th>\n",
       "      <td>55</td>\n",
       "      <td>0</td>\n",
       "      <td>175</td>\n",
       "      <td>94</td>\n",
       "      <td>100</td>\n",
       "      <td>202</td>\n",
       "      <td>380</td>\n",
       "      <td>179</td>\n",
       "      <td>143</td>\n",
       "      <td>28</td>\n",
       "      <td>...</td>\n",
       "      <td>0.0</td>\n",
       "      <td>12.2</td>\n",
       "      <td>-2.2</td>\n",
       "      <td>0.0</td>\n",
       "      <td>0</td>\n",
       "      <td>0.4</td>\n",
       "      <td>2.6</td>\n",
       "      <td>34.6</td>\n",
       "      <td>61.6</td>\n",
       "      <td>1</td>\n",
       "    </tr>\n",
       "    <tr>\n",
       "      <th>4</th>\n",
       "      <td>75</td>\n",
       "      <td>0</td>\n",
       "      <td>190</td>\n",
       "      <td>80</td>\n",
       "      <td>88</td>\n",
       "      <td>181</td>\n",
       "      <td>360</td>\n",
       "      <td>177</td>\n",
       "      <td>103</td>\n",
       "      <td>-16</td>\n",
       "      <td>...</td>\n",
       "      <td>0.0</td>\n",
       "      <td>13.1</td>\n",
       "      <td>-3.6</td>\n",
       "      <td>0.0</td>\n",
       "      <td>0</td>\n",
       "      <td>-0.1</td>\n",
       "      <td>3.9</td>\n",
       "      <td>25.4</td>\n",
       "      <td>62.8</td>\n",
       "      <td>7</td>\n",
       "    </tr>\n",
       "  </tbody>\n",
       "</table>\n",
       "<p>5 rows × 280 columns</p>\n",
       "</div>"
      ],
      "text/plain": [
       "   0    1    2    3    4    5    6    7    8    9   ...   270   271  272  273  \\\n",
       "0   75    0  190   80   91  193  371  174  121  -16 ...   0.0   9.0 -0.9  0.0   \n",
       "1   56    1  165   64   81  174  401  149   39   25 ...   0.0   8.5  0.0  0.0   \n",
       "2   54    0  172   95  138  163  386  185  102   96 ...   0.0   9.5 -2.4  0.0   \n",
       "3   55    0  175   94  100  202  380  179  143   28 ...   0.0  12.2 -2.2  0.0   \n",
       "4   75    0  190   80   88  181  360  177  103  -16 ...   0.0  13.1 -3.6  0.0   \n",
       "\n",
       "   274  275  276   277   278  279  \n",
       "0    0  0.9  2.9  23.3  49.4    8  \n",
       "1    0  0.2  2.1  20.4  38.8    6  \n",
       "2    0  0.3  3.4  12.3  49.0   10  \n",
       "3    0  0.4  2.6  34.6  61.6    1  \n",
       "4    0 -0.1  3.9  25.4  62.8    7  \n",
       "\n",
       "[5 rows x 280 columns]"
      ]
     },
     "execution_count": 3,
     "metadata": {},
     "output_type": "execute_result"
    }
   ],
   "source": [
    "df.head()"
   ]
  },
  {
   "cell_type": "code",
   "execution_count": 4,
   "metadata": {},
   "outputs": [
    {
     "name": "stdout",
     "output_type": "stream",
     "text": [
      "<class 'pandas.core.frame.DataFrame'>\n",
      "RangeIndex: 452 entries, 0 to 451\n",
      "Columns: 280 entries, 0 to 279\n",
      "dtypes: float64(121), int64(159)\n",
      "memory usage: 988.8 KB\n"
     ]
    }
   ],
   "source": [
    "df.info()"
   ]
  },
  {
   "cell_type": "code",
   "execution_count": 5,
   "metadata": {
    "scrolled": true
   },
   "outputs": [
    {
     "data": {
      "text/html": [
       "<div>\n",
       "<style scoped>\n",
       "    .dataframe tbody tr th:only-of-type {\n",
       "        vertical-align: middle;\n",
       "    }\n",
       "\n",
       "    .dataframe tbody tr th {\n",
       "        vertical-align: top;\n",
       "    }\n",
       "\n",
       "    .dataframe thead th {\n",
       "        text-align: right;\n",
       "    }\n",
       "</style>\n",
       "<table border=\"1\" class=\"dataframe\">\n",
       "  <thead>\n",
       "    <tr style=\"text-align: right;\">\n",
       "      <th></th>\n",
       "      <th>0</th>\n",
       "      <th>1</th>\n",
       "      <th>2</th>\n",
       "      <th>3</th>\n",
       "      <th>4</th>\n",
       "      <th>5</th>\n",
       "      <th>6</th>\n",
       "      <th>7</th>\n",
       "      <th>8</th>\n",
       "      <th>9</th>\n",
       "      <th>...</th>\n",
       "      <th>270</th>\n",
       "      <th>271</th>\n",
       "      <th>272</th>\n",
       "      <th>273</th>\n",
       "      <th>274</th>\n",
       "      <th>275</th>\n",
       "      <th>276</th>\n",
       "      <th>277</th>\n",
       "      <th>278</th>\n",
       "      <th>279</th>\n",
       "    </tr>\n",
       "  </thead>\n",
       "  <tbody>\n",
       "    <tr>\n",
       "      <th>count</th>\n",
       "      <td>452.000000</td>\n",
       "      <td>452.000000</td>\n",
       "      <td>452.000000</td>\n",
       "      <td>452.000000</td>\n",
       "      <td>452.000000</td>\n",
       "      <td>452.000000</td>\n",
       "      <td>452.000000</td>\n",
       "      <td>452.000000</td>\n",
       "      <td>452.000000</td>\n",
       "      <td>452.000000</td>\n",
       "      <td>...</td>\n",
       "      <td>452.000000</td>\n",
       "      <td>452.000000</td>\n",
       "      <td>452.000000</td>\n",
       "      <td>452.000000</td>\n",
       "      <td>452.0</td>\n",
       "      <td>452.000000</td>\n",
       "      <td>452.000000</td>\n",
       "      <td>452.000000</td>\n",
       "      <td>452.000000</td>\n",
       "      <td>452.000000</td>\n",
       "    </tr>\n",
       "    <tr>\n",
       "      <th>mean</th>\n",
       "      <td>46.471239</td>\n",
       "      <td>0.550885</td>\n",
       "      <td>166.188053</td>\n",
       "      <td>68.170354</td>\n",
       "      <td>88.920354</td>\n",
       "      <td>155.152655</td>\n",
       "      <td>367.207965</td>\n",
       "      <td>169.949115</td>\n",
       "      <td>90.004425</td>\n",
       "      <td>33.676991</td>\n",
       "      <td>...</td>\n",
       "      <td>-0.278982</td>\n",
       "      <td>9.048009</td>\n",
       "      <td>-1.457301</td>\n",
       "      <td>0.003982</td>\n",
       "      <td>0.0</td>\n",
       "      <td>0.514823</td>\n",
       "      <td>1.222345</td>\n",
       "      <td>19.326106</td>\n",
       "      <td>29.473230</td>\n",
       "      <td>3.880531</td>\n",
       "    </tr>\n",
       "    <tr>\n",
       "      <th>std</th>\n",
       "      <td>16.466631</td>\n",
       "      <td>0.497955</td>\n",
       "      <td>37.170340</td>\n",
       "      <td>16.590803</td>\n",
       "      <td>15.364394</td>\n",
       "      <td>44.842283</td>\n",
       "      <td>33.385421</td>\n",
       "      <td>35.633072</td>\n",
       "      <td>25.826643</td>\n",
       "      <td>45.431434</td>\n",
       "      <td>...</td>\n",
       "      <td>0.548876</td>\n",
       "      <td>3.472862</td>\n",
       "      <td>2.002430</td>\n",
       "      <td>0.050118</td>\n",
       "      <td>0.0</td>\n",
       "      <td>0.347531</td>\n",
       "      <td>1.426052</td>\n",
       "      <td>13.503922</td>\n",
       "      <td>18.493927</td>\n",
       "      <td>4.407097</td>\n",
       "    </tr>\n",
       "    <tr>\n",
       "      <th>min</th>\n",
       "      <td>0.000000</td>\n",
       "      <td>0.000000</td>\n",
       "      <td>105.000000</td>\n",
       "      <td>6.000000</td>\n",
       "      <td>55.000000</td>\n",
       "      <td>0.000000</td>\n",
       "      <td>232.000000</td>\n",
       "      <td>108.000000</td>\n",
       "      <td>0.000000</td>\n",
       "      <td>-172.000000</td>\n",
       "      <td>...</td>\n",
       "      <td>-4.100000</td>\n",
       "      <td>0.000000</td>\n",
       "      <td>-28.600000</td>\n",
       "      <td>0.000000</td>\n",
       "      <td>0.0</td>\n",
       "      <td>-0.800000</td>\n",
       "      <td>-6.000000</td>\n",
       "      <td>-44.200000</td>\n",
       "      <td>-38.600000</td>\n",
       "      <td>1.000000</td>\n",
       "    </tr>\n",
       "    <tr>\n",
       "      <th>25%</th>\n",
       "      <td>36.000000</td>\n",
       "      <td>0.000000</td>\n",
       "      <td>160.000000</td>\n",
       "      <td>59.000000</td>\n",
       "      <td>80.000000</td>\n",
       "      <td>142.000000</td>\n",
       "      <td>350.000000</td>\n",
       "      <td>148.000000</td>\n",
       "      <td>79.000000</td>\n",
       "      <td>3.750000</td>\n",
       "      <td>...</td>\n",
       "      <td>-0.425000</td>\n",
       "      <td>6.600000</td>\n",
       "      <td>-2.100000</td>\n",
       "      <td>0.000000</td>\n",
       "      <td>0.0</td>\n",
       "      <td>0.400000</td>\n",
       "      <td>0.500000</td>\n",
       "      <td>11.450000</td>\n",
       "      <td>17.550000</td>\n",
       "      <td>1.000000</td>\n",
       "    </tr>\n",
       "    <tr>\n",
       "      <th>50%</th>\n",
       "      <td>47.000000</td>\n",
       "      <td>1.000000</td>\n",
       "      <td>164.000000</td>\n",
       "      <td>68.000000</td>\n",
       "      <td>86.000000</td>\n",
       "      <td>157.000000</td>\n",
       "      <td>367.000000</td>\n",
       "      <td>162.000000</td>\n",
       "      <td>91.000000</td>\n",
       "      <td>40.000000</td>\n",
       "      <td>...</td>\n",
       "      <td>0.000000</td>\n",
       "      <td>8.800000</td>\n",
       "      <td>-1.100000</td>\n",
       "      <td>0.000000</td>\n",
       "      <td>0.0</td>\n",
       "      <td>0.500000</td>\n",
       "      <td>1.350000</td>\n",
       "      <td>18.100000</td>\n",
       "      <td>27.900000</td>\n",
       "      <td>1.000000</td>\n",
       "    </tr>\n",
       "    <tr>\n",
       "      <th>75%</th>\n",
       "      <td>58.000000</td>\n",
       "      <td>1.000000</td>\n",
       "      <td>170.000000</td>\n",
       "      <td>79.000000</td>\n",
       "      <td>94.000000</td>\n",
       "      <td>175.000000</td>\n",
       "      <td>384.000000</td>\n",
       "      <td>179.000000</td>\n",
       "      <td>102.000000</td>\n",
       "      <td>66.000000</td>\n",
       "      <td>...</td>\n",
       "      <td>0.000000</td>\n",
       "      <td>11.200000</td>\n",
       "      <td>0.000000</td>\n",
       "      <td>0.000000</td>\n",
       "      <td>0.0</td>\n",
       "      <td>0.700000</td>\n",
       "      <td>2.100000</td>\n",
       "      <td>25.825000</td>\n",
       "      <td>41.125000</td>\n",
       "      <td>6.000000</td>\n",
       "    </tr>\n",
       "    <tr>\n",
       "      <th>max</th>\n",
       "      <td>83.000000</td>\n",
       "      <td>1.000000</td>\n",
       "      <td>780.000000</td>\n",
       "      <td>176.000000</td>\n",
       "      <td>188.000000</td>\n",
       "      <td>524.000000</td>\n",
       "      <td>509.000000</td>\n",
       "      <td>381.000000</td>\n",
       "      <td>205.000000</td>\n",
       "      <td>169.000000</td>\n",
       "      <td>...</td>\n",
       "      <td>0.000000</td>\n",
       "      <td>23.600000</td>\n",
       "      <td>0.000000</td>\n",
       "      <td>0.800000</td>\n",
       "      <td>0.0</td>\n",
       "      <td>2.400000</td>\n",
       "      <td>6.000000</td>\n",
       "      <td>88.800000</td>\n",
       "      <td>115.900000</td>\n",
       "      <td>16.000000</td>\n",
       "    </tr>\n",
       "  </tbody>\n",
       "</table>\n",
       "<p>8 rows × 280 columns</p>\n",
       "</div>"
      ],
      "text/plain": [
       "              0           1           2           3           4           5    \\\n",
       "count  452.000000  452.000000  452.000000  452.000000  452.000000  452.000000   \n",
       "mean    46.471239    0.550885  166.188053   68.170354   88.920354  155.152655   \n",
       "std     16.466631    0.497955   37.170340   16.590803   15.364394   44.842283   \n",
       "min      0.000000    0.000000  105.000000    6.000000   55.000000    0.000000   \n",
       "25%     36.000000    0.000000  160.000000   59.000000   80.000000  142.000000   \n",
       "50%     47.000000    1.000000  164.000000   68.000000   86.000000  157.000000   \n",
       "75%     58.000000    1.000000  170.000000   79.000000   94.000000  175.000000   \n",
       "max     83.000000    1.000000  780.000000  176.000000  188.000000  524.000000   \n",
       "\n",
       "              6           7           8           9       ...             270  \\\n",
       "count  452.000000  452.000000  452.000000  452.000000     ...      452.000000   \n",
       "mean   367.207965  169.949115   90.004425   33.676991     ...       -0.278982   \n",
       "std     33.385421   35.633072   25.826643   45.431434     ...        0.548876   \n",
       "min    232.000000  108.000000    0.000000 -172.000000     ...       -4.100000   \n",
       "25%    350.000000  148.000000   79.000000    3.750000     ...       -0.425000   \n",
       "50%    367.000000  162.000000   91.000000   40.000000     ...        0.000000   \n",
       "75%    384.000000  179.000000  102.000000   66.000000     ...        0.000000   \n",
       "max    509.000000  381.000000  205.000000  169.000000     ...        0.000000   \n",
       "\n",
       "              271         272         273    274         275         276  \\\n",
       "count  452.000000  452.000000  452.000000  452.0  452.000000  452.000000   \n",
       "mean     9.048009   -1.457301    0.003982    0.0    0.514823    1.222345   \n",
       "std      3.472862    2.002430    0.050118    0.0    0.347531    1.426052   \n",
       "min      0.000000  -28.600000    0.000000    0.0   -0.800000   -6.000000   \n",
       "25%      6.600000   -2.100000    0.000000    0.0    0.400000    0.500000   \n",
       "50%      8.800000   -1.100000    0.000000    0.0    0.500000    1.350000   \n",
       "75%     11.200000    0.000000    0.000000    0.0    0.700000    2.100000   \n",
       "max     23.600000    0.000000    0.800000    0.0    2.400000    6.000000   \n",
       "\n",
       "              277         278         279  \n",
       "count  452.000000  452.000000  452.000000  \n",
       "mean    19.326106   29.473230    3.880531  \n",
       "std     13.503922   18.493927    4.407097  \n",
       "min    -44.200000  -38.600000    1.000000  \n",
       "25%     11.450000   17.550000    1.000000  \n",
       "50%     18.100000   27.900000    1.000000  \n",
       "75%     25.825000   41.125000    6.000000  \n",
       "max     88.800000  115.900000   16.000000  \n",
       "\n",
       "[8 rows x 280 columns]"
      ]
     },
     "execution_count": 5,
     "metadata": {},
     "output_type": "execute_result"
    }
   ],
   "source": [
    "df.describe()"
   ]
  },
  {
   "cell_type": "code",
   "execution_count": 6,
   "metadata": {
    "scrolled": false
   },
   "outputs": [
    {
     "data": {
      "text/html": [
       "<div>\n",
       "<style scoped>\n",
       "    .dataframe tbody tr th:only-of-type {\n",
       "        vertical-align: middle;\n",
       "    }\n",
       "\n",
       "    .dataframe tbody tr th {\n",
       "        vertical-align: top;\n",
       "    }\n",
       "\n",
       "    .dataframe thead th {\n",
       "        text-align: right;\n",
       "    }\n",
       "</style>\n",
       "<table border=\"1\" class=\"dataframe\">\n",
       "  <thead>\n",
       "    <tr style=\"text-align: right;\">\n",
       "      <th></th>\n",
       "      <th>10</th>\n",
       "      <th>11</th>\n",
       "      <th>12</th>\n",
       "      <th>13</th>\n",
       "      <th>14</th>\n",
       "    </tr>\n",
       "  </thead>\n",
       "  <tbody>\n",
       "    <tr>\n",
       "      <th>count</th>\n",
       "      <td>444.000000</td>\n",
       "      <td>430.000000</td>\n",
       "      <td>451.000000</td>\n",
       "      <td>76.000000</td>\n",
       "      <td>451.000000</td>\n",
       "    </tr>\n",
       "    <tr>\n",
       "      <th>mean</th>\n",
       "      <td>36.150901</td>\n",
       "      <td>48.913953</td>\n",
       "      <td>36.716186</td>\n",
       "      <td>-13.592105</td>\n",
       "      <td>74.463415</td>\n",
       "    </tr>\n",
       "    <tr>\n",
       "      <th>std</th>\n",
       "      <td>57.858255</td>\n",
       "      <td>29.346409</td>\n",
       "      <td>36.020725</td>\n",
       "      <td>127.220248</td>\n",
       "      <td>13.870684</td>\n",
       "    </tr>\n",
       "    <tr>\n",
       "      <th>min</th>\n",
       "      <td>-177.000000</td>\n",
       "      <td>-170.000000</td>\n",
       "      <td>-135.000000</td>\n",
       "      <td>-179.000000</td>\n",
       "      <td>44.000000</td>\n",
       "    </tr>\n",
       "    <tr>\n",
       "      <th>25%</th>\n",
       "      <td>14.000000</td>\n",
       "      <td>41.000000</td>\n",
       "      <td>12.000000</td>\n",
       "      <td>-124.500000</td>\n",
       "      <td>65.000000</td>\n",
       "    </tr>\n",
       "    <tr>\n",
       "      <th>50%</th>\n",
       "      <td>41.000000</td>\n",
       "      <td>56.000000</td>\n",
       "      <td>40.000000</td>\n",
       "      <td>-50.500000</td>\n",
       "      <td>72.000000</td>\n",
       "    </tr>\n",
       "    <tr>\n",
       "      <th>75%</th>\n",
       "      <td>63.250000</td>\n",
       "      <td>65.000000</td>\n",
       "      <td>62.000000</td>\n",
       "      <td>117.250000</td>\n",
       "      <td>81.000000</td>\n",
       "    </tr>\n",
       "    <tr>\n",
       "      <th>max</th>\n",
       "      <td>179.000000</td>\n",
       "      <td>176.000000</td>\n",
       "      <td>166.000000</td>\n",
       "      <td>178.000000</td>\n",
       "      <td>163.000000</td>\n",
       "    </tr>\n",
       "  </tbody>\n",
       "</table>\n",
       "</div>"
      ],
      "text/plain": [
       "               10          11          12          13          14\n",
       "count  444.000000  430.000000  451.000000   76.000000  451.000000\n",
       "mean    36.150901   48.913953   36.716186  -13.592105   74.463415\n",
       "std     57.858255   29.346409   36.020725  127.220248   13.870684\n",
       "min   -177.000000 -170.000000 -135.000000 -179.000000   44.000000\n",
       "25%     14.000000   41.000000   12.000000 -124.500000   65.000000\n",
       "50%     41.000000   56.000000   40.000000  -50.500000   72.000000\n",
       "75%     63.250000   65.000000   62.000000  117.250000   81.000000\n",
       "max    179.000000  176.000000  166.000000  178.000000  163.000000"
      ]
     },
     "execution_count": 6,
     "metadata": {},
     "output_type": "execute_result"
    },
    {
     "data": {
      "image/png": "[encoded data removed]",
      "text/plain": [
       "<matplotlib.figure.Figure at 0x22acbd05e10>"
      ]
     },
     "metadata": {},
     "output_type": "display_data"
    }
   ],
   "source": [
    "# Tracking missing value.\n",
    "# Columns: 10 QRS, 11 T,12 P,13 QRST, 14 J, all of them are linear data.\n",
    "\n",
    "df_missing = df.isnull().sum()[df.isnull().sum()!=0]\n",
    "fig = plt.figure(figsize = (15,15))\n",
    "for a,b in enumerate(df_missing.index):\n",
    "    fig.add_subplot(3,2,a+1)\n",
    "    sns.distplot(df[b].dropna(),rug = True)\n",
    "df[[10,11,12,13,14]].describe()"
   ]
  },
  {
   "cell_type": "markdown",
   "metadata": {},
   "source": [
    "There are so many missing value (83.2%) in column 13, so I decide to remove it.\n",
    "\n",
    "For other columns, I think it okay to replace missing values using the mean along the axis."
   ]
  },
  {
   "cell_type": "code",
   "execution_count": 7,
   "metadata": {},
   "outputs": [],
   "source": [
    "from sklearn.preprocessing import Imputer\n",
    "imputer = Imputer(axis=1) # default method: mean\n",
    "data = pd.DataFrame(imputer.fit_transform(df)).drop(13, axis = 1)"
   ]
  },
  {
   "cell_type": "markdown",
   "metadata": {},
   "source": [
    "### Decide aboute a good evaluation strategy and justify your choice."
   ]
  },
  {
   "cell_type": "markdown",
   "metadata": {},
   "source": [
    "For Multi-Class evaluation, I will use Confusion matrices to evaluate model.\n",
    "\n",
    "Also, this is a imbalanced data set as we can see below:"
   ]
  },
  {
   "cell_type": "code",
   "execution_count": 8,
   "metadata": {},
   "outputs": [
    {
     "data": {
      "text/plain": [
       "1     245\n",
       "10     50\n",
       "2      44\n",
       "6      25\n",
       "16     22\n",
       "4      15\n",
       "3      15\n",
       "5      13\n",
       "9       9\n",
       "15      5\n",
       "14      4\n",
       "7       3\n",
       "8       2\n",
       "Name: 279, dtype: int64"
      ]
     },
     "execution_count": 8,
     "metadata": {},
     "output_type": "execute_result"
    }
   ],
   "source": [
    "df[279].value_counts()"
   ]
  },
  {
   "cell_type": "markdown",
   "metadata": {},
   "source": [
    "### Find the best parameters for the following classification models:\n",
    "- KNN classifcation \n",
    "- Logistic Regression\n",
    "- Linear Supprt Vector Machine\n",
    "- Kerenilzed Support Vector Machine\n",
    "- Decision Tree\n",
    "- Random Forest \n",
    "\n",
    "Then use different bagging and boosting methods to boost the results? Do you see any significant change? Why or why not?"
   ]
  },
  {
   "cell_type": "code",
   "execution_count": 9,
   "metadata": {},
   "outputs": [],
   "source": [
    "from sklearn.model_selection import GridSearchCV, train_test_split\n",
    "from sklearn.preprocessing import MinMaxScaler\n",
    "\n",
    "X = data.drop(279,axis  = 1)\n",
    "y = data[279]\n",
    "\n",
    "# orginal data\n",
    "X_train_org, X_test_org, y_train, y_test = train_test_split(X, y, random_state = 20)\n",
    "\n",
    "# scaled data\n",
    "scaler = MinMaxScaler()\n",
    "X_train = scaler.fit_transform(X_train_org)\n",
    "X_test = scaler.transform(X_test_org)"
   ]
  },
  {
   "cell_type": "markdown",
   "metadata": {},
   "source": [
    "#### KNN"
   ]
  },
  {
   "cell_type": "code",
   "execution_count": 10,
   "metadata": {},
   "outputs": [
    {
     "name": "stderr",
     "output_type": "stream",
     "text": [
      "d:\\program files (x86)\\python36\\lib\\site-packages\\sklearn\\model_selection\\_split.py:605: Warning: The least populated class in y has only 1 members, which is too few. The minimum number of members in any class cannot be less than n_splits=10.\n",
      "  % (min_groups, self.n_splits)), Warning)\n"
     ]
    },
    {
     "name": "stdout",
     "output_type": "stream",
     "text": [
      "The best parameter is {'n_neighbors': 2}\n"
     ]
    }
   ],
   "source": [
    "# the best parameters\n",
    "from sklearn.neighbors import KNeighborsClassifier\n",
    "param_grid = {'n_neighbors':list(range(1,20))}\n",
    "grid = GridSearchCV(KNeighborsClassifier(), param_grid,cv = 10).fit(X_train_org, y_train)\n",
    "print('The best parameter is {}'.format(grid.best_params_))"
   ]
  },
  {
   "cell_type": "code",
   "execution_count": 11,
   "metadata": {
    "scrolled": false
   },
   "outputs": [
    {
     "name": "stdout",
     "output_type": "stream",
     "text": [
      "             precision    recall  f1-score   support\n",
      "\n",
      "        1.0       0.59      0.98      0.74        58\n",
      "        2.0       0.29      0.18      0.22        11\n",
      "        3.0       1.00      0.50      0.67         8\n",
      "        4.0       0.00      0.00      0.00         3\n",
      "        5.0       0.00      0.00      0.00         4\n",
      "        6.0       0.00      0.00      0.00         8\n",
      "        8.0       0.00      0.00      0.00         1\n",
      "        9.0       1.00      1.00      1.00         2\n",
      "       10.0       1.00      0.08      0.14        13\n",
      "       15.0       1.00      0.50      0.67         2\n",
      "       16.0       0.00      0.00      0.00         3\n",
      "\n",
      "avg / total       0.55      0.59      0.49       113\n",
      "\n",
      "Train score: 0.71\n",
      "Test score: 0.59\n"
     ]
    },
    {
     "name": "stderr",
     "output_type": "stream",
     "text": [
      "d:\\program files (x86)\\python36\\lib\\site-packages\\sklearn\\metrics\\classification.py:1135: UndefinedMetricWarning: Precision and F-score are ill-defined and being set to 0.0 in labels with no predicted samples.\n",
      "  'precision', 'predicted', average, warn_for)\n"
     ]
    }
   ],
   "source": [
    "# evaluation\n",
    "knn = KNeighborsClassifier(n_neighbors = 2).fit(X_train_org, y_train)\n",
    "from sklearn.metrics import confusion_matrix, classification_report,f1_score\n",
    "#sns.heatmap(confusion_matrix(y_test, grid.predict(X_test_org)),annot=True)\n",
    "print(classification_report(y_test, grid.predict(X_test_org)))\n",
    "print('Train score: {0:0.2f}'.format(grid.score(X_train_org, y_train)))\n",
    "print('Test score: {0:0.2f}'.format(grid.score(X_test_org, y_test)))\n",
    "result['knn'] = grid.score(X_train_org, y_train),grid.score(X_test_org, y_test)"
   ]
  },
  {
   "cell_type": "code",
   "execution_count": 12,
   "metadata": {},
   "outputs": [
    {
     "name": "stdout",
     "output_type": "stream",
     "text": [
      "Train score: 0.98\n",
      "Test score: 0.59\n",
      "Train score: 1.00\n",
      "Test score: 0.58\n"
     ]
    }
   ],
   "source": [
    "# Bagging & pasting\n",
    "from sklearn.ensemble import BaggingClassifier\n",
    "\n",
    "bagging_knn = BaggingClassifier(knn , n_estimators = 100, max_features = 20, bootstrap = True).fit(X_train_org,y_train)\n",
    "print('Train score: {0:0.2f}'.format(bagging_knn.score(X_train_org,y_train)))\n",
    "print('Test score: {0:0.2f}'.format(bagging_knn.score(X_test_org,y_test)))\n",
    "\n",
    "bagging_knn = BaggingClassifier(knn , n_estimators = 100, max_features = 20, bootstrap = False).fit(X_train_org,y_train)\n",
    "print('Train score: {0:0.2f}'.format(bagging_knn.score(X_train_org,y_train)))\n",
    "print('Test score: {0:0.2f}'.format(bagging_knn.score(X_test_org,y_test)))"
   ]
  },
  {
   "cell_type": "markdown",
   "metadata": {},
   "source": [
    "#### Logistic Regression"
   ]
  },
  {
   "cell_type": "code",
   "execution_count": 13,
   "metadata": {
    "scrolled": false
   },
   "outputs": [
    {
     "name": "stdout",
     "output_type": "stream",
     "text": [
      "The best parameter is {'C': 0.01, 'penalty': 'l1'}\n"
     ]
    }
   ],
   "source": [
    "# the best parameters & evaluation \n",
    "# Normal vs others\n",
    "from sklearn.linear_model import LogisticRegression\n",
    "param_grid = {'C':[0.01,0.1,1,10,100],'penalty':['l1', 'l2']}\n",
    "y_lr = pd.get_dummies(y.astype('int'))\n",
    "X_train_lr, X_test_lr, y_train_lr, y_test_lr = train_test_split(X, y_lr[1],stratify = y_lr[1],random_state = 20)\n",
    "grid = GridSearchCV(LogisticRegression(), param_grid,cv = 10).fit(X_train_lr, y_train_lr)\n",
    "print('The best parameter is {}'.format(grid.best_params_))"
   ]
  },
  {
   "cell_type": "code",
   "execution_count": 14,
   "metadata": {},
   "outputs": [
    {
     "name": "stdout",
     "output_type": "stream",
     "text": [
      "             precision    recall  f1-score   support\n",
      "\n",
      "          0       0.86      0.60      0.70        52\n",
      "          1       0.73      0.92      0.81        61\n",
      "\n",
      "avg / total       0.79      0.77      0.76       113\n",
      "\n",
      "Train score: 0.81\n",
      "Test score: 0.77\n"
     ]
    }
   ],
   "source": [
    "#print(confusion_matrix(y_test_lr, grid.predict(X_test_lr)))\n",
    "lr = LogisticRegression(C= 0.01).fit(X_train_lr, y_train_lr)\n",
    "print(classification_report(y_test_lr, grid.predict(X_test_lr)))\n",
    "print('Train score: {0:0.2f}'.format(grid.score(X_train_lr, y_train_lr)))\n",
    "print('Test score: {0:0.2f}'.format(grid.score(X_test_lr, y_test_lr)))\n",
    "result['Logistic'] = grid.score(X_train_lr, y_train_lr),grid.score(X_test_lr, y_test_lr)"
   ]
  },
  {
   "cell_type": "raw",
   "metadata": {},
   "source": [
    "#### one vs all\n",
    "for i in y_lr.columns:\n",
    "    X_train_lr, X_test_lr, y_train_lr, y_test_lr = train_test_split(X, y_lr[i],stratify = y_lr[i],random_state = 0)\n",
    "    grid = GridSearchCV(lr, param_grid,cv = 10)\n",
    "    grid.fit(X_train_lr, y_train_lr)\n",
    "    print('For {}:\\nThe best parameter is {}'.format(i,grid.best_params_))\n",
    "    print(confusion_matrix(y_test_lr, grid.predict(X_test_lr)))\n",
    "    print('Train score: {0:0.2f}'.format(grid.score(X_train_lr, y_train_lr)))\n",
    "    print('Test score: {0:0.2f}'.format(grid.score(X_test_lr, y_test_lr)))\n",
    "    print('F1: {:.3f}, \\n'.format(f1_score(y_test_lr, grid.predict(X_test_lr))))"
   ]
  },
  {
   "cell_type": "code",
   "execution_count": 15,
   "metadata": {},
   "outputs": [
    {
     "name": "stdout",
     "output_type": "stream",
     "text": [
      "Train score: 0.78\n",
      "Test score: 0.80\n",
      "Train score: 0.76\n",
      "Test score: 0.76\n",
      "Train score: 0.82\n",
      "Test score: 0.77\n"
     ]
    }
   ],
   "source": [
    "# Bagging & pasting\n",
    "\n",
    "bagging_knn = BaggingClassifier(lr , n_estimators = 100, max_features = 20, bootstrap = True).fit(X_train_lr,y_train_lr)\n",
    "print('Train score: {0:0.2f}'.format(bagging_knn.score(X_train_lr,y_train_lr)))\n",
    "print('Test score: {0:0.2f}'.format(bagging_knn.score(X_test_lr,y_test_lr)))\n",
    "\n",
    "bagging_knn = BaggingClassifier(lr , n_estimators = 100, max_features = 20, bootstrap = False).fit(X_train_lr,y_train_lr)\n",
    "print('Train score: {0:0.2f}'.format(bagging_knn.score(X_train_lr,y_train_lr)))\n",
    "print('Test score: {0:0.2f}'.format(bagging_knn.score(X_test_lr,y_test_lr)))\n",
    "\n",
    "from sklearn.ensemble import AdaBoostClassifier\n",
    "adaboost_clf = AdaBoostClassifier(base_estimator = lr, learning_rate = 0.5).fit(X_train_lr, y_train_lr)\n",
    "print('Train score: {0:0.2f}'.format(adaboost_clf.score(X_train_lr, y_train_lr)))\n",
    "print('Test score: {0:0.2f}'.format(adaboost_clf.score(X_test_lr, y_test_lr)))"
   ]
  },
  {
   "cell_type": "markdown",
   "metadata": {},
   "source": [
    "#### Linear Supprt Vector Machine"
   ]
  },
  {
   "cell_type": "code",
   "execution_count": 16,
   "metadata": {},
   "outputs": [
    {
     "name": "stderr",
     "output_type": "stream",
     "text": [
      "d:\\program files (x86)\\python36\\lib\\site-packages\\sklearn\\model_selection\\_split.py:605: Warning: The least populated class in y has only 1 members, which is too few. The minimum number of members in any class cannot be less than n_splits=10.\n",
      "  % (min_groups, self.n_splits)), Warning)\n"
     ]
    },
    {
     "name": "stdout",
     "output_type": "stream",
     "text": [
      "The best parameter is LinearSVC(C=0.1, class_weight=None, dual=True, fit_intercept=True,\n",
      "     intercept_scaling=1, loss='squared_hinge', max_iter=1000,\n",
      "     multi_class='ovr', penalty='l2', random_state=None, tol=0.0001,\n",
      "     verbose=0)\n"
     ]
    }
   ],
   "source": [
    "# the best parameters\n",
    "from sklearn.svm import LinearSVC\n",
    "param_grid = {'C':[0.01,0.1,1,10,100]}\n",
    "grid = GridSearchCV(LinearSVC(), param_grid,cv = 10)\n",
    "grid.fit(X_train, y_train)\n",
    "print('The best parameter is {}'.format(grid.best_estimator_))"
   ]
  },
  {
   "cell_type": "code",
   "execution_count": 17,
   "metadata": {},
   "outputs": [
    {
     "name": "stdout",
     "output_type": "stream",
     "text": [
      "             precision    recall  f1-score   support\n",
      "\n",
      "        1.0       0.69      1.00      0.82        58\n",
      "        2.0       0.80      0.36      0.50        11\n",
      "        3.0       1.00      0.88      0.93         8\n",
      "        4.0       0.00      0.00      0.00         3\n",
      "        5.0       0.00      0.00      0.00         4\n",
      "        6.0       1.00      0.12      0.22         8\n",
      "        8.0       0.00      0.00      0.00         1\n",
      "        9.0       1.00      1.00      1.00         2\n",
      "       10.0       0.85      0.85      0.85        13\n",
      "       15.0       0.00      0.00      0.00         2\n",
      "       16.0       0.00      0.00      0.00         3\n",
      "\n",
      "avg / total       0.69      0.73      0.66       113\n",
      "\n",
      "Train score: 0.82\n",
      "Test score: 0.73\n"
     ]
    },
    {
     "name": "stderr",
     "output_type": "stream",
     "text": [
      "d:\\program files (x86)\\python36\\lib\\site-packages\\sklearn\\metrics\\classification.py:1135: UndefinedMetricWarning: Precision and F-score are ill-defined and being set to 0.0 in labels with no predicted samples.\n",
      "  'precision', 'predicted', average, warn_for)\n"
     ]
    }
   ],
   "source": [
    "# evaluation\n",
    "linear_svm = LinearSVC(C = 0.1).fit(X_train, y_train)\n",
    "print(classification_report(y_test, grid.predict(X_test)))\n",
    "print('Train score: {0:0.2f}'.format(grid.score(X_train, y_train)))\n",
    "print('Test score: {0:0.2f}'.format(grid.score(X_test, y_test)))\n",
    "#sns.heatmap(confusion_matrix(y_test, grid.predict(X_test_org)),annot=True)\n",
    "result['LinearSVM'] = grid.score(X_train, y_train),grid.score(X_test, y_test)"
   ]
  },
  {
   "cell_type": "code",
   "execution_count": 18,
   "metadata": {},
   "outputs": [
    {
     "name": "stdout",
     "output_type": "stream",
     "text": [
      "Train score: 0.56\n",
      "Test score: 0.52\n",
      "Train score: 0.57\n",
      "Test score: 0.52\n"
     ]
    }
   ],
   "source": [
    "# bagging and pasting\n",
    "\n",
    "bagging_knn = BaggingClassifier(linear_svm , n_estimators = 100, max_features = 20, bootstrap = True).fit(X_train, y_train)\n",
    "print('Train score: {0:0.2f}'.format(bagging_knn.score(X_train,y_train)))\n",
    "print('Test score: {0:0.2f}'.format(bagging_knn.score(X_test,y_test)))\n",
    "\n",
    "bagging_knn = BaggingClassifier(linear_svm , n_estimators = 100, max_features = 20, bootstrap = False).fit(X_train,y_train)\n",
    "print('Train score: {0:0.2f}'.format(bagging_knn.score(X_train,y_train)))\n",
    "print('Test score: {0:0.2f}'.format(bagging_knn.score(X_test,y_test)))"
   ]
  },
  {
   "cell_type": "markdown",
   "metadata": {},
   "source": [
    "#### Kerenilzed Support Vector Machine"
   ]
  },
  {
   "cell_type": "code",
   "execution_count": 19,
   "metadata": {},
   "outputs": [
    {
     "name": "stderr",
     "output_type": "stream",
     "text": [
      "d:\\program files (x86)\\python36\\lib\\site-packages\\sklearn\\model_selection\\_split.py:605: Warning: The least populated class in y has only 1 members, which is too few. The minimum number of members in any class cannot be less than n_splits=10.\n",
      "  % (min_groups, self.n_splits)), Warning)\n"
     ]
    },
    {
     "name": "stdout",
     "output_type": "stream",
     "text": [
      "The best parameter is SVC(C=1, cache_size=200, class_weight=None, coef0=0.0,\n",
      "  decision_function_shape='ovr', degree=3, gamma='auto', kernel='linear',\n",
      "  max_iter=-1, probability=False, random_state=None, shrinking=True,\n",
      "  tol=0.001, verbose=False)\n"
     ]
    }
   ],
   "source": [
    "# the best parameters\n",
    "from sklearn.svm import SVC\n",
    "param_grid = [\n",
    "    {'C': [0.01,0.1,1, 10, 100], 'kernel': ['linear']},\n",
    "    {'C': [0.01,0.1,1, 10, 100], 'gamma': [0.01,0.1,1,10,100], 'kernel': ['rbf']},\n",
    "    {'C': [0.01,0.1,1, 10, 100],'kernel':['poly'],'degree':[2,3,4,5,6]}\n",
    "]\n",
    "grid = GridSearchCV(SVC(),param_grid,cv = 10)\n",
    "grid.fit(X_train, y_train)\n",
    "print('The best parameter is {}'.format(grid.best_estimator_))"
   ]
  },
  {
   "cell_type": "code",
   "execution_count": 20,
   "metadata": {},
   "outputs": [
    {
     "name": "stdout",
     "output_type": "stream",
     "text": [
      "             precision    recall  f1-score   support\n",
      "\n",
      "        1.0       0.72      1.00      0.83        58\n",
      "        2.0       0.86      0.55      0.67        11\n",
      "        3.0       1.00      0.88      0.93         8\n",
      "        4.0       0.00      0.00      0.00         3\n",
      "        5.0       1.00      0.25      0.40         4\n",
      "        6.0       1.00      0.12      0.22         8\n",
      "        8.0       0.00      0.00      0.00         1\n",
      "        9.0       1.00      1.00      1.00         2\n",
      "       10.0       1.00      0.85      0.92        13\n",
      "       15.0       0.50      0.50      0.50         2\n",
      "       16.0       0.00      0.00      0.00         3\n",
      "\n",
      "avg / total       0.77      0.77      0.72       113\n",
      "\n",
      "Train score: 0.89\n",
      "Test score: 0.77\n"
     ]
    },
    {
     "name": "stderr",
     "output_type": "stream",
     "text": [
      "d:\\program files (x86)\\python36\\lib\\site-packages\\sklearn\\metrics\\classification.py:1135: UndefinedMetricWarning: Precision and F-score are ill-defined and being set to 0.0 in labels with no predicted samples.\n",
      "  'precision', 'predicted', average, warn_for)\n"
     ]
    }
   ],
   "source": [
    "# evaluation\n",
    "svm = SVC(C=1,kernel = 'linear',degree = 3 ).fit(X_train, y_train)\n",
    "print(classification_report(y_test, grid.predict(X_test)))\n",
    "print('Train score: {0:0.2f}'.format(grid.score(X_train, y_train)))\n",
    "print('Test score: {0:0.2f}'.format(grid.score(X_test, y_test)))\n",
    "#sns.heatmap(confusion_matrix(y_test, grid.predict(X_test)),annot=True)\n",
    "result['SVM'] = grid.score(X_train, y_train),grid.score(X_test, y_test)"
   ]
  },
  {
   "cell_type": "code",
   "execution_count": 21,
   "metadata": {},
   "outputs": [
    {
     "name": "stdout",
     "output_type": "stream",
     "text": [
      "Train score: 0.57\n",
      "Test score: 0.51\n",
      "Train score: 0.58\n",
      "Test score: 0.52\n"
     ]
    }
   ],
   "source": [
    "# Bagging & pasting\n",
    "\n",
    "bagging_knn = BaggingClassifier(svm , n_estimators = 100, max_features = 20, bootstrap = True).fit(X_train,y_train)\n",
    "print('Train score: {0:0.2f}'.format(bagging_knn.score(X_train,y_train)))\n",
    "print('Test score: {0:0.2f}'.format(bagging_knn.score(X_test,y_test)))\n",
    "\n",
    "bagging_knn = BaggingClassifier(svm , n_estimators = 100, max_features = 20, bootstrap = False).fit(X_train,y_train)\n",
    "print('Train score: {0:0.2f}'.format(bagging_knn.score(X_train,y_train)))\n",
    "print('Test score: {0:0.2f}'.format(bagging_knn.score(X_test,y_test)))"
   ]
  },
  {
   "cell_type": "markdown",
   "metadata": {},
   "source": [
    "#### Decision Tree"
   ]
  },
  {
   "cell_type": "code",
   "execution_count": 22,
   "metadata": {
    "scrolled": true
   },
   "outputs": [
    {
     "name": "stderr",
     "output_type": "stream",
     "text": [
      "d:\\program files (x86)\\python36\\lib\\site-packages\\sklearn\\model_selection\\_split.py:605: Warning: The least populated class in y has only 1 members, which is too few. The minimum number of members in any class cannot be less than n_splits=10.\n",
      "  % (min_groups, self.n_splits)), Warning)\n"
     ]
    },
    {
     "name": "stdout",
     "output_type": "stream",
     "text": [
      "The best parameter is DecisionTreeClassifier(class_weight=None, criterion='gini', max_depth=5,\n",
      "            max_features=None, max_leaf_nodes=None,\n",
      "            min_impurity_decrease=0.0, min_impurity_split=None,\n",
      "            min_samples_leaf=1, min_samples_split=2,\n",
      "            min_weight_fraction_leaf=0.0, presort=False, random_state=20,\n",
      "            splitter='best')\n"
     ]
    }
   ],
   "source": [
    "# the best parameters\n",
    "from sklearn.tree import DecisionTreeClassifier\n",
    "param_grid = {'max_depth':[5, 10, 20, 50, 100]}\n",
    "grid = GridSearchCV(DecisionTreeClassifier(random_state = 20), param_grid,cv = 10)\n",
    "grid.fit(X_train_org, y_train)\n",
    "print('The best parameter is {}'.format(grid.best_estimator_))"
   ]
  },
  {
   "cell_type": "code",
   "execution_count": 23,
   "metadata": {},
   "outputs": [
    {
     "name": "stdout",
     "output_type": "stream",
     "text": [
      "             precision    recall  f1-score   support\n",
      "\n",
      "        1.0       0.76      0.93      0.84        58\n",
      "        2.0       0.33      0.55      0.41        11\n",
      "        3.0       0.75      0.38      0.50         8\n",
      "        4.0       0.00      0.00      0.00         3\n",
      "        5.0       0.00      0.00      0.00         4\n",
      "        6.0       0.67      0.50      0.57         8\n",
      "        8.0       0.00      0.00      0.00         1\n",
      "        9.0       1.00      0.50      0.67         2\n",
      "       10.0       0.67      0.46      0.55        13\n",
      "       15.0       0.00      0.00      0.00         2\n",
      "       16.0       0.00      0.00      0.00         3\n",
      "\n",
      "avg / total       0.62      0.65      0.62       113\n",
      "\n",
      "Train score: 0.83\n",
      "Test score: 0.65\n"
     ]
    },
    {
     "name": "stderr",
     "output_type": "stream",
     "text": [
      "d:\\program files (x86)\\python36\\lib\\site-packages\\sklearn\\metrics\\classification.py:1135: UndefinedMetricWarning: Precision and F-score are ill-defined and being set to 0.0 in labels with no predicted samples.\n",
      "  'precision', 'predicted', average, warn_for)\n"
     ]
    }
   ],
   "source": [
    "# evaluation\n",
    "tree = DecisionTreeClassifier(random_state = 20,max_depth=5).fit(X_train_org, y_train)\n",
    "print(classification_report(y_test, grid.predict(X_test_org)))\n",
    "print('Train score: {0:0.2f}'.format(grid.score(X_train_org, y_train)))\n",
    "print('Test score: {0:0.2f}'.format(grid.score(X_test_org, y_test)))\n",
    "#sns.heatmap(confusion_matrix(y_test, grid.predict(X_test_org)),annot=True)\n",
    "result['Tree'] = grid.score(X_train_org, y_train),grid.score(X_test_org, y_test)"
   ]
  },
  {
   "cell_type": "code",
   "execution_count": 24,
   "metadata": {},
   "outputs": [
    {
     "name": "stdout",
     "output_type": "stream",
     "text": [
      "Train score: 0.76\n",
      "Test score: 0.65\n",
      "Train score: 0.77\n",
      "Test score: 0.65\n",
      "Train score: 1.00\n",
      "Test score: 0.66\n"
     ]
    }
   ],
   "source": [
    "# Bagging & pasting\n",
    "\n",
    "bagging_knn = BaggingClassifier(tree , n_estimators = 100, max_features = 20, bootstrap = True).fit(X_train_org,y_train)\n",
    "print('Train score: {0:0.2f}'.format(bagging_knn.score(X_train_org,y_train)))\n",
    "print('Test score: {0:0.2f}'.format(bagging_knn.score(X_test_org,y_test)))\n",
    "\n",
    "bagging_knn = BaggingClassifier(tree , n_estimators = 100, max_features = 20, bootstrap = False).fit(X_train_org,y_train)\n",
    "print('Train score: {0:0.2f}'.format(bagging_knn.score(X_train_org,y_train)))\n",
    "print('Test score: {0:0.2f}'.format(bagging_knn.score(X_test_org,y_test)))\n",
    "\n",
    "adaboost_clf = AdaBoostClassifier(base_estimator = tree, learning_rate = 0.5).fit(X_train_org, y_train)\n",
    "print('Train score: {0:0.2f}'.format(adaboost_clf.score(X_train_org, y_train)))\n",
    "print('Test score: {0:0.2f}'.format(adaboost_clf.score(X_test_org, y_test)))"
   ]
  },
  {
   "cell_type": "markdown",
   "metadata": {},
   "source": [
    "#### Random Forest"
   ]
  },
  {
   "cell_type": "code",
   "execution_count": 25,
   "metadata": {},
   "outputs": [
    {
     "name": "stderr",
     "output_type": "stream",
     "text": [
      "d:\\program files (x86)\\python36\\lib\\site-packages\\sklearn\\model_selection\\_split.py:605: Warning: The least populated class in y has only 1 members, which is too few. The minimum number of members in any class cannot be less than n_splits=3.\n",
      "  % (min_groups, self.n_splits)), Warning)\n"
     ]
    },
    {
     "name": "stdout",
     "output_type": "stream",
     "text": [
      "The best parameter is {'max_depth': 9, 'n_estimators': 9}\n"
     ]
    }
   ],
   "source": [
    "# the best parameters\n",
    "from sklearn.ensemble import RandomForestClassifier\n",
    "param_grid = {'n_estimators':list(range(1,11)), 'max_depth':list(range(1,10))}\n",
    "grid = GridSearchCV(RandomForestClassifier(random_state=20), param_grid)\n",
    "grid.fit(X_train_org, y_train)\n",
    "print('The best parameter is {}'.format(grid.best_params_))"
   ]
  },
  {
   "cell_type": "code",
   "execution_count": 26,
   "metadata": {},
   "outputs": [
    {
     "name": "stdout",
     "output_type": "stream",
     "text": [
      "             precision    recall  f1-score   support\n",
      "\n",
      "        1.0       0.68      0.95      0.79        58\n",
      "        2.0       0.42      0.45      0.43        11\n",
      "        3.0       1.00      0.50      0.67         8\n",
      "        4.0       0.00      0.00      0.00         3\n",
      "        5.0       0.00      0.00      0.00         4\n",
      "        6.0       0.50      0.12      0.20         8\n",
      "        8.0       0.00      0.00      0.00         1\n",
      "        9.0       1.00      1.00      1.00         2\n",
      "       10.0       0.80      0.62      0.70        13\n",
      "       15.0       0.00      0.00      0.00         2\n",
      "       16.0       0.00      0.00      0.00         3\n",
      "\n",
      "avg / total       0.61      0.66      0.61       113\n",
      "\n",
      "Train score: 0.94\n",
      "Test score: 0.66\n"
     ]
    },
    {
     "name": "stderr",
     "output_type": "stream",
     "text": [
      "d:\\program files (x86)\\python36\\lib\\site-packages\\sklearn\\metrics\\classification.py:1135: UndefinedMetricWarning: Precision and F-score are ill-defined and being set to 0.0 in labels with no predicted samples.\n",
      "  'precision', 'predicted', average, warn_for)\n"
     ]
    }
   ],
   "source": [
    "# evaluation\n",
    "forest = RandomForestClassifier(max_depth=9, n_estimators=9,random_state=20).fit(X_train_org, y_train)\n",
    "print(classification_report(y_test, grid.predict(X_test_org)))\n",
    "print('Train score: {0:0.2f}'.format(grid.score(X_train_org, y_train)))\n",
    "print('Test score: {0:0.2f}'.format(grid.score(X_test_org, y_test)))\n",
    "#sns.heatmap(confusion_matrix(y_test, grid.predict(X_test_org)),annot=True)\n",
    "result['Forest'] = grid.score(X_train_org, y_train),grid.score(X_test_org, y_test)"
   ]
  },
  {
   "cell_type": "code",
   "execution_count": 27,
   "metadata": {},
   "outputs": [
    {
     "name": "stdout",
     "output_type": "stream",
     "text": [
      "Train score: 0.81\n",
      "Test score: 0.59\n",
      "Train score: 0.84\n",
      "Test score: 0.63\n",
      "Train score: 0.80\n",
      "Test score: 0.55\n"
     ]
    }
   ],
   "source": [
    "# Bagging & pasting\n",
    "\n",
    "bagging_knn = BaggingClassifier(forest , n_estimators = 100, max_features = 20, bootstrap = True).fit(X_train_org,y_train)\n",
    "print('Train score: {0:0.2f}'.format(bagging_knn.score(X_train_org,y_train)))\n",
    "print('Test score: {0:0.2f}'.format(bagging_knn.score(X_test_org,y_test)))\n",
    "\n",
    "bagging_knn = BaggingClassifier(forest , n_estimators = 100, max_features = 20, bootstrap = False).fit(X_train_org,y_train)\n",
    "print('Train score: {0:0.2f}'.format(bagging_knn.score(X_train_org,y_train)))\n",
    "print('Test score: {0:0.2f}'.format(bagging_knn.score(X_test_org,y_test)))\n",
    "\n",
    "adaboost_clf = AdaBoostClassifier(base_estimator = forest, learning_rate = 0.5).fit(X_train_org, y_train)\n",
    "print('Train score: {0:0.2f}'.format(adaboost_clf.score(X_train_org, y_train)))\n",
    "print('Test score: {0:0.2f}'.format(adaboost_clf.score(X_test_org, y_test)))"
   ]
  },
  {
   "cell_type": "markdown",
   "metadata": {},
   "source": [
    "#### Summary\n",
    "\n",
    "Pasting draw a random subset of training samples s1 without replacement from the training set to train a weak learner l1, then draw second random training subset s2 without replacement from the training set and add 50 percent of the samples that were previously falsely classified/misclassified to train a weak learner l2, Find the training samples s3 in the training set on which l1 and l2 disagree to train a third weak learner l3. Finally, combine all the weak learners via majority voting.\n",
    "\n",
    "Bagging is almost the same: choosing a random sample but with replacement. It generate n different bootstrap training sample, then train algorithm on each bootstrapped sample separately, and average the predictions at the end.\n",
    "\n",
    "Since pasting is without replacement, each subset of the sample can be used once at most, which means that you need a big dataset for it to work. As a matter of fact, pasting was originally designed for large data-sets, when computing power is limited. Bagging, on the other hand, can use the same subsets many times, which is great for smaller sample sizes, in which it improves robustness.\n",
    "\n",
    "These methods are designed to improve the stability and the accuracy of Machine Learning algorithms. Combinations of multiple classifiers decrease variance, especially in the case of unstable classifiers, and may produce a more reliable classification than a single classifier.\n",
    "\n",
    "For knn, bagging and pasting make no difference to the result. Since it doesn't bring more information for knn.\n",
    "\n",
    "For logistic regression, the test score is a little better after bagging.\n",
    "\n",
    "For decision tree, random forest, linear SVM and SVM, bagging and pasting bring worse result. Mabey it put more wight on the some point that algorithm put in the wrong classes."
   ]
  },
  {
   "cell_type": "markdown",
   "metadata": {},
   "source": [
    "### Dimension Reduction"
   ]
  },
  {
   "cell_type": "code",
   "execution_count": 28,
   "metadata": {},
   "outputs": [],
   "source": [
    "from sklearn.decomposition import PCA\n",
    "\n",
    "pca = PCA(n_components=0.95)\n",
    "\n",
    "# with scaled data\n",
    "X_reduced_train = pca.fit_transform(X_train)\n",
    "X_reduced_test = pca.transform(X_test)\n",
    "\n",
    "# with original data\n",
    "X_reduced_train_org = pca.fit_transform(X_train_org)\n",
    "X_reduced_test_org = pca.transform(X_test_org)\n",
    "result_pca = pd.DataFrame()"
   ]
  },
  {
   "cell_type": "markdown",
   "metadata": {},
   "source": [
    "#### knn"
   ]
  },
  {
   "cell_type": "code",
   "execution_count": 29,
   "metadata": {},
   "outputs": [
    {
     "name": "stderr",
     "output_type": "stream",
     "text": [
      "d:\\program files (x86)\\python36\\lib\\site-packages\\sklearn\\model_selection\\_split.py:605: Warning: The least populated class in y has only 1 members, which is too few. The minimum number of members in any class cannot be less than n_splits=10.\n",
      "  % (min_groups, self.n_splits)), Warning)\n"
     ]
    },
    {
     "name": "stdout",
     "output_type": "stream",
     "text": [
      "Train score: 0.72\n",
      "Test score: 0.61\n"
     ]
    }
   ],
   "source": [
    "param_grid = {'n_neighbors':list(range(1,20))}\n",
    "grid = GridSearchCV(KNeighborsClassifier(), param_grid,cv = 10).fit(X_reduced_train_org, y_train)\n",
    "#print('The best parameter is {}'.format(grid.best_params_))\n",
    "print('Train score: {0:0.2f}'.format(grid.score(X_reduced_train_org, y_train)))\n",
    "print('Test score: {0:0.2f}'.format(grid.score(X_reduced_test_org, y_test)))\n",
    "result_pca['knn'] = grid.score(X_reduced_train_org, y_train),grid.score(X_reduced_test_org, y_test)"
   ]
  },
  {
   "cell_type": "markdown",
   "metadata": {},
   "source": [
    "#### Logistic Regression"
   ]
  },
  {
   "cell_type": "code",
   "execution_count": 30,
   "metadata": {},
   "outputs": [
    {
     "name": "stdout",
     "output_type": "stream",
     "text": [
      "Train score: 0.78\n",
      "Test score: 0.79\n"
     ]
    }
   ],
   "source": [
    "param_grid = {'C':[0.01,0.1,1,10,100],'penalty':['l1', 'l2']}\n",
    "X_train_lr, X_test_lr, y_train_lr, y_test_lr = train_test_split(pca.transform(X), y_lr[1],stratify = y_lr[1],random_state = 20)\n",
    "grid = GridSearchCV(LogisticRegression(), param_grid,cv = 10).fit(X_train_lr, y_train_lr)\n",
    "print('Train score: {0:0.2f}'.format(grid.score(X_train_lr, y_train_lr)))\n",
    "print('Test score: {0:0.2f}'.format(grid.score(X_test_lr, y_test_lr)))\n",
    "result_pca['Logistic'] = grid.score(X_train_lr, y_train_lr),grid.score(X_test_lr, y_test_lr)"
   ]
  },
  {
   "cell_type": "markdown",
   "metadata": {},
   "source": [
    "#### Linear Supprt Vector Machine"
   ]
  },
  {
   "cell_type": "code",
   "execution_count": 31,
   "metadata": {},
   "outputs": [
    {
     "name": "stderr",
     "output_type": "stream",
     "text": [
      "d:\\program files (x86)\\python36\\lib\\site-packages\\sklearn\\model_selection\\_split.py:605: Warning: The least populated class in y has only 1 members, which is too few. The minimum number of members in any class cannot be less than n_splits=10.\n",
      "  % (min_groups, self.n_splits)), Warning)\n"
     ]
    },
    {
     "name": "stdout",
     "output_type": "stream",
     "text": [
      "Train score: 0.80\n",
      "Test score: 0.73\n"
     ]
    }
   ],
   "source": [
    "param_grid = {'C':[0.01,0.1,1,10,100]}\n",
    "grid = GridSearchCV(LinearSVC(), param_grid,cv = 10).fit(X_reduced_train, y_train)\n",
    "print('Train score: {0:0.2f}'.format(grid.score(X_reduced_train, y_train)))\n",
    "print('Test score: {0:0.2f}'.format(grid.score(X_reduced_test, y_test)))\n",
    "result_pca['LinearSVM'] = grid.score(X_reduced_train, y_train),grid.score(X_reduced_test, y_test)"
   ]
  },
  {
   "cell_type": "markdown",
   "metadata": {},
   "source": [
    "#### Kerenilzed Support Vector Machine"
   ]
  },
  {
   "cell_type": "code",
   "execution_count": 32,
   "metadata": {},
   "outputs": [
    {
     "name": "stderr",
     "output_type": "stream",
     "text": [
      "d:\\program files (x86)\\python36\\lib\\site-packages\\sklearn\\model_selection\\_split.py:605: Warning: The least populated class in y has only 1 members, which is too few. The minimum number of members in any class cannot be less than n_splits=10.\n",
      "  % (min_groups, self.n_splits)), Warning)\n"
     ]
    },
    {
     "name": "stdout",
     "output_type": "stream",
     "text": [
      "Train score: 0.91\n",
      "Test score: 0.74\n"
     ]
    }
   ],
   "source": [
    "param_grid = [\n",
    "    {'C': [0.01,0.1,1, 10, 100], 'kernel': ['linear']},\n",
    "    {'C': [0.01,0.1,1, 10, 100], 'gamma': [0.01,0.1,1,10,100], 'kernel': ['rbf']},\n",
    "    {'C': [0.01,0.1,1, 10, 100],'kernel':['poly'],'degree':[2,3,4,5,6]}\n",
    "]\n",
    "grid = GridSearchCV(SVC(),param_grid,cv = 10).fit(X_reduced_train, y_train)\n",
    "print('Train score: {0:0.2f}'.format(grid.score(X_reduced_train, y_train)))\n",
    "print('Test score: {0:0.2f}'.format(grid.score(X_reduced_test, y_test)))\n",
    "result_pca['SVM'] = grid.score(X_reduced_train, y_train),grid.score(X_reduced_test, y_test)"
   ]
  },
  {
   "cell_type": "markdown",
   "metadata": {},
   "source": [
    "#### Decision Tree"
   ]
  },
  {
   "cell_type": "code",
   "execution_count": 33,
   "metadata": {},
   "outputs": [
    {
     "name": "stderr",
     "output_type": "stream",
     "text": [
      "d:\\program files (x86)\\python36\\lib\\site-packages\\sklearn\\model_selection\\_split.py:605: Warning: The least populated class in y has only 1 members, which is too few. The minimum number of members in any class cannot be less than n_splits=10.\n",
      "  % (min_groups, self.n_splits)), Warning)\n"
     ]
    },
    {
     "name": "stdout",
     "output_type": "stream",
     "text": [
      "Train score: 0.73\n",
      "Test score: 0.53\n"
     ]
    }
   ],
   "source": [
    "param_grid = {'max_depth':[5, 10, 20, 50, 100]}\n",
    "grid = GridSearchCV(DecisionTreeClassifier(random_state = 20), param_grid,cv = 10).fit(X_reduced_train_org, y_train)\n",
    "print('Train score: {0:0.2f}'.format(grid.score(X_reduced_train_org, y_train)))\n",
    "print('Test score: {0:0.2f}'.format(grid.score(X_reduced_test_org, y_test)))\n",
    "result_pca['Tree'] = grid.score(X_reduced_train_org, y_train),grid.score(X_reduced_test_org, y_test)"
   ]
  },
  {
   "cell_type": "markdown",
   "metadata": {},
   "source": [
    "#### Random Forest"
   ]
  },
  {
   "cell_type": "code",
   "execution_count": 34,
   "metadata": {},
   "outputs": [
    {
     "name": "stderr",
     "output_type": "stream",
     "text": [
      "d:\\program files (x86)\\python36\\lib\\site-packages\\sklearn\\model_selection\\_split.py:605: Warning: The least populated class in y has only 1 members, which is too few. The minimum number of members in any class cannot be less than n_splits=3.\n",
      "  % (min_groups, self.n_splits)), Warning)\n"
     ]
    },
    {
     "name": "stdout",
     "output_type": "stream",
     "text": [
      "Train score: 0.63\n",
      "Test score: 0.57\n"
     ]
    }
   ],
   "source": [
    "param_grid = {'n_estimators':list(range(1,11)), 'max_depth':list(range(1,10))}\n",
    "grid = GridSearchCV(RandomForestClassifier(random_state=20), param_grid).fit(X_reduced_train_org, y_train)\n",
    "print('Train score: {0:0.2f}'.format(grid.score(X_reduced_train_org, y_train)))\n",
    "print('Test score: {0:0.2f}'.format(grid.score(X_reduced_test_org, y_test)))\n",
    "result_pca['Forest'] = grid.score(X_reduced_train_org, y_train),grid.score(X_reduced_test_org, y_test)"
   ]
  },
  {
   "cell_type": "code",
   "execution_count": 52,
   "metadata": {},
   "outputs": [
    {
     "data": {
      "text/html": [
       "<div>\n",
       "<style scoped>\n",
       "    .dataframe tbody tr th:only-of-type {\n",
       "        vertical-align: middle;\n",
       "    }\n",
       "\n",
       "    .dataframe tbody tr th {\n",
       "        vertical-align: top;\n",
       "    }\n",
       "\n",
       "    .dataframe thead th {\n",
       "        text-align: right;\n",
       "    }\n",
       "</style>\n",
       "<table border=\"1\" class=\"dataframe\">\n",
       "  <thead>\n",
       "    <tr style=\"text-align: right;\">\n",
       "      <th></th>\n",
       "      <th>Train Score</th>\n",
       "      <th>Test Score</th>\n",
       "      <th>Train Score PCA</th>\n",
       "      <th>Test Score PCA</th>\n",
       "    </tr>\n",
       "  </thead>\n",
       "  <tbody>\n",
       "    <tr>\n",
       "      <th>knn</th>\n",
       "      <td>0.710914</td>\n",
       "      <td>0.592920</td>\n",
       "      <td>0.716814</td>\n",
       "      <td>0.610619</td>\n",
       "    </tr>\n",
       "    <tr>\n",
       "      <th>Logistic</th>\n",
       "      <td>0.808260</td>\n",
       "      <td>0.769912</td>\n",
       "      <td>0.781711</td>\n",
       "      <td>0.787611</td>\n",
       "    </tr>\n",
       "    <tr>\n",
       "      <th>LinearSVM</th>\n",
       "      <td>0.817109</td>\n",
       "      <td>0.734513</td>\n",
       "      <td>0.802360</td>\n",
       "      <td>0.725664</td>\n",
       "    </tr>\n",
       "    <tr>\n",
       "      <th>SVM</th>\n",
       "      <td>0.893805</td>\n",
       "      <td>0.769912</td>\n",
       "      <td>0.911504</td>\n",
       "      <td>0.743363</td>\n",
       "    </tr>\n",
       "    <tr>\n",
       "      <th>Tree</th>\n",
       "      <td>0.828909</td>\n",
       "      <td>0.654867</td>\n",
       "      <td>0.731563</td>\n",
       "      <td>0.530973</td>\n",
       "    </tr>\n",
       "    <tr>\n",
       "      <th>Forest</th>\n",
       "      <td>0.938053</td>\n",
       "      <td>0.663717</td>\n",
       "      <td>0.625369</td>\n",
       "      <td>0.566372</td>\n",
       "    </tr>\n",
       "  </tbody>\n",
       "</table>\n",
       "</div>"
      ],
      "text/plain": [
       "           Train Score  Test Score  Train Score PCA  Test Score PCA\n",
       "knn           0.710914    0.592920         0.716814        0.610619\n",
       "Logistic      0.808260    0.769912         0.781711        0.787611\n",
       "LinearSVM     0.817109    0.734513         0.802360        0.725664\n",
       "SVM           0.893805    0.769912         0.911504        0.743363\n",
       "Tree          0.828909    0.654867         0.731563        0.530973\n",
       "Forest        0.938053    0.663717         0.625369        0.566372"
      ]
     },
     "execution_count": 52,
     "metadata": {},
     "output_type": "execute_result"
    },
    {
     "data": {
      "image/png": "[encoded data removed]",
      "text/plain": [
       "<matplotlib.figure.Figure at 0x22ad3c787f0>"
      ]
     },
     "metadata": {},
     "output_type": "display_data"
    }
   ],
   "source": [
    "result.rename(index={0:'Train Score',1:'Test Score'},inplace = True)\n",
    "result_pca.rename(index={0:'Train Score PCA',1:'Test Score PCA'},inplace = True)\n",
    "result.T.join(result_pca.T).plot()\n",
    "result.T.join(result_pca.T)"
   ]
  },
  {
   "cell_type": "markdown",
   "metadata": {},
   "source": [
    "#### Summary\n",
    "\n",
    "As for the logistic regression model, PCA brings better test score. I think the reason is in the logistic regression model, pca help model generate better, reduce overfitting by convert a set of observations of possibly correlated variables into a set of values of linearly uncorrelated variables. Correlated independent variable might cause collinearity. And logistic regression is 'regression' even though it calculate the possibility. \n",
    "\n",
    "For knn, linear SVM and SVM, it seems not very useful. Maybe the reason is the algorithms only care about the distance between each point of data set, so covert the location to another axis is not helpful.\n",
    "\n",
    "For decision tree and random forest, PCA make it worse. Maybe the reason is PCA reduce the dimension, which is critical parameters for decision tree and random forest to make decision."
   ]
  }
 ],
 "metadata": {
  "kernelspec": {
   "display_name": "Python 3",
   "language": "python",
   "name": "python3"
  },
  "language_info": {
   "codemirror_mode": {
    "name": "ipython",
    "version": 3
   },
   "file_extension": ".py",
   "mimetype": "text/x-python",
   "name": "python",
   "nbconvert_exporter": "python",
   "pygments_lexer": "ipython3",
   "version": "3.6.4"
  }
 },
 "nbformat": 4,
 "nbformat_minor": 2
}
